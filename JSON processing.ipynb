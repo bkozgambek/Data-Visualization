{
 "cells": [
  {
   "cell_type": "code",
   "execution_count": 1,
   "id": "bbcd8d1b",
   "metadata": {},
   "outputs": [
    {
     "ename": "FileNotFoundError",
     "evalue": "[Errno 2] No such file or directory: 'C:\\\\Users\\\\kozga\\\\Desktop\\\\tracks.json'",
     "output_type": "error",
     "traceback": [
      "\u001b[1;31m---------------------------------------------------------------------------\u001b[0m",
      "\u001b[1;31mFileNotFoundError\u001b[0m                         Traceback (most recent call last)",
      "\u001b[1;32m~\\AppData\\Local\\Temp\\ipykernel_10584\\2095984136.py\u001b[0m in \u001b[0;36m<module>\u001b[1;34m\u001b[0m\n\u001b[0;32m      2\u001b[0m \u001b[1;32mimport\u001b[0m \u001b[0mjson\u001b[0m\u001b[1;33m\u001b[0m\u001b[1;33m\u001b[0m\u001b[0m\n\u001b[0;32m      3\u001b[0m \u001b[1;33m\u001b[0m\u001b[0m\n\u001b[1;32m----> 4\u001b[1;33m \u001b[1;32mwith\u001b[0m \u001b[0mopen\u001b[0m\u001b[1;33m(\u001b[0m\u001b[0mos\u001b[0m\u001b[1;33m.\u001b[0m\u001b[0mpath\u001b[0m\u001b[1;33m.\u001b[0m\u001b[0mjoin\u001b[0m\u001b[1;33m(\u001b[0m\u001b[1;34m'C:\\\\'\u001b[0m\u001b[1;33m,\u001b[0m \u001b[1;34m'Users'\u001b[0m\u001b[1;33m,\u001b[0m \u001b[1;34m'kozga'\u001b[0m\u001b[1;33m,\u001b[0m \u001b[1;34m'Desktop'\u001b[0m\u001b[1;33m,\u001b[0m \u001b[1;34m'tracks.json'\u001b[0m\u001b[1;33m)\u001b[0m\u001b[1;33m,\u001b[0m \u001b[1;34m'r'\u001b[0m\u001b[1;33m)\u001b[0m \u001b[1;32mas\u001b[0m \u001b[0mtracks_json\u001b[0m\u001b[1;33m:\u001b[0m\u001b[1;33m\u001b[0m\u001b[1;33m\u001b[0m\u001b[0m\n\u001b[0m\u001b[0;32m      5\u001b[0m     \u001b[0mdata\u001b[0m \u001b[1;33m=\u001b[0m \u001b[0mjson\u001b[0m\u001b[1;33m.\u001b[0m\u001b[0mload\u001b[0m\u001b[1;33m(\u001b[0m\u001b[0mtracks_json\u001b[0m\u001b[1;33m)\u001b[0m\u001b[1;33m\u001b[0m\u001b[1;33m\u001b[0m\u001b[0m\n\u001b[0;32m      6\u001b[0m     \u001b[0mres\u001b[0m \u001b[1;33m=\u001b[0m \u001b[1;33m[\u001b[0m\u001b[1;33m]\u001b[0m\u001b[1;33m\u001b[0m\u001b[1;33m\u001b[0m\u001b[0m\n",
      "\u001b[1;31mFileNotFoundError\u001b[0m: [Errno 2] No such file or directory: 'C:\\\\Users\\\\kozga\\\\Desktop\\\\tracks.json'"
     ]
    }
   ],
   "source": [
    "import os\n",
    "import json\n",
    "\n",
    "with open(os.path.join('C:\\\\', 'Users', 'kozga', 'Desktop', 'tracks.json'), 'r') as tracks_json:\n",
    "    data = json.load(tracks_json)\n",
    "    res = []\n",
    "    track_list = data[\"tracks\"][\"items\"]\n",
    "    for obj in track_list:\n",
    "        dict = {}\n",
    "        dict[\"artist\"] = obj[\"artists\"][0][\"name\"]\n",
    "        dict[\"duration_min\"] = obj[\"duration_ms\"]/60/1000\n",
    "        dict[\"explicit\"] = obj[\"explicit\"]\n",
    "        dict[\"track_name\"] = obj[\"name\"]\n",
    "        dict[\"popularity\"] = obj[\"popularity\"]\n",
    "        dict[\"id\"] = obj[\"id\"]\n",
    "        res.append(dict)\n",
    "    json_file = json.dumps(res, indent=4)\n",
    "    \n",
    "with open(os.path.join('C:\\\\', 'Users', 'kozga', 'Desktop', 'result2.json'), 'w') as file:\n",
    "    file.write(json_file)"
   ]
  },
  {
   "cell_type": "code",
   "execution_count": null,
   "id": "597865e8",
   "metadata": {},
   "outputs": [],
   "source": [
    "import os, json, random\n",
    "tonalities = ['A', 'A#', 'B', 'C', 'C#', 'D', 'D#', 'E', 'F', 'F#', 'G', 'G#']\n",
    "\n",
    "with open(os.path.join('C:\\\\', 'Users', 'kozga', 'Desktop', 'result.json'), 'r') as tracks_json:\n",
    "    data = json.load(tracks_json)\n",
    "    for track in data:\n",
    "        # track[\"tonality\"] = tonalities[random.randint(0, 11)]\n",
    "        track[\"tonality\"] = random.randint(0, 11)\n",
    "    json_file = json.dumps(data, indent=4)\n",
    "\n",
    "with open(os.path.join('C:\\\\', 'Users', 'kozga', 'Desktop', 'result3.json'), 'w') as file:\n",
    "    file.write(json_file)"
   ]
  }
 ],
 "metadata": {
  "kernelspec": {
   "display_name": "Python 3 (ipykernel)",
   "language": "python",
   "name": "python3"
  },
  "language_info": {
   "codemirror_mode": {
    "name": "ipython",
    "version": 3
   },
   "file_extension": ".py",
   "mimetype": "text/x-python",
   "name": "python",
   "nbconvert_exporter": "python",
   "pygments_lexer": "ipython3",
   "version": "3.9.13"
  }
 },
 "nbformat": 4,
 "nbformat_minor": 5
}
